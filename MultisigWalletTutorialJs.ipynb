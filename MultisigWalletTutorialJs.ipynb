{
 "cells": [
  {
   "cell_type": "markdown",
   "metadata": {},
   "source": [
    "# Multisig Wallet tutorial and playground with web3.js\n",
    "Tested on Energy Web Foundation's Volta test network and ganache.\n",
    "\n",
    "\n",
    "On a live test network please make 3 test accounts with some test tokens for experimentation"
   ]
  },
  {
   "cell_type": "code",
   "execution_count": null,
   "metadata": {},
   "outputs": [],
   "source": [
    "const Web3 = require('web3');\n",
    "const fs = require(\"fs\");\n",
    "\n",
    "// Deployed factory address on Volta. Feel free to change it to yours.\n",
    "const factoryWithDLAddress = \"0xA76bAb23973EFc2A456572aE6dc10991260Df3e3\"\n",
    "\n",
    "const pathRoot = \"node_modules/multisig-wallet-gnosis/build/contracts/\"\n",
    "const factoryWithDLAbi = JSON.parse(fs.readFileSync(pathRoot + \"MultiSigWalletWithDailyLimitFactory.json\"))[\"abi\"]\n",
    "const walletWithDLJSON = JSON.parse(fs.readFileSync(pathRoot + \"MultiSigWalletWithDailyLimit.json\"))\n",
    "\n",
    "const ADDRESS_EMPTY = '0x0000000000000000000000000000000000000000'"
   ]
  },
  {
   "cell_type": "code",
   "execution_count": null,
   "metadata": {},
   "outputs": [],
   "source": [
    "const provider = new Web3.providers.HttpProvider(\"http://localhost:8545\")\n",
    "const web3 = new Web3(provider)\n",
    "\n",
    "let address1, address2, address3\n",
    "\n",
    "// you should have 3 unlocked accounts to play around\n",
    "web3.eth.personal.getAccounts().then((accounts) => {\n",
    "    console.log(accounts)\n",
    "    address1 = accounts[0]\n",
    "    address2 = accounts[1]\n",
    "    address3 = accounts[2]\n",
    "})\n",
    "//web3.eth.personal.unlockAccount(w3.eth.defaultAccount, \"passwordhere\", duration)"
   ]
  },
  {
   "cell_type": "markdown",
   "metadata": {},
   "source": [
    "### 1. Let's create a multisig wallet\n",
    "You need:\n",
    " - the owner account addresses\n",
    " - how many confirmations are needed to perform transactions\n",
    " - daily limit -> the amount that can be withrdrawn per day without the confirmation of others\n",
    "\n",
    "These setting can be later changed\n",
    "\n",
    "2 ways to create the wallet:\n",
    " 1. A: using the deployed wallet factory (simpler)\n",
    " 2. B: compiling and deploying the Wallet contract yourself\n",
    "\n",
    "Choose whichever fits you the best"
   ]
  },
  {
   "cell_type": "markdown",
   "metadata": {},
   "source": [
    "### 1.A Using a factory"
   ]
  },
  {
   "cell_type": "markdown",
   "metadata": {},
   "source": [
    "#### Let's create a factory and wallet instance"
   ]
  },
  {
   "cell_type": "code",
   "execution_count": null,
   "metadata": {},
   "outputs": [],
   "source": [
    "let factoryWithDailyLimit\n",
    "let requiredConfirmations\n",
    "let dailyLimit\n",
    "let txHash"
   ]
  },
  {
   "cell_type": "code",
   "execution_count": null,
   "metadata": {},
   "outputs": [],
   "source": [
    "// factory is already deployed so we know the address\n",
    "factoryWithDailyLimit = new web3.eth.Contract(factoryWithDLAbi, factoryWithDLAddress)\n",
    "console.log(\"---\")"
   ]
  },
  {
   "cell_type": "code",
   "execution_count": null,
   "metadata": {},
   "outputs": [],
   "source": [
    "requiredConfirmations = 2\n",
    "dailyLimit = 0\n",
    "\n",
    "factoryWithDailyLimit.methods.create([address1, address2, address3], requiredConfirmations, dailyLimit)\n",
    "    .send({\"from\": address1, \"gas\": 5000000})\n",
    "    .then((x) => {\n",
    "        txHash=x\n",
    "        console.log(txHash)\n",
    "    })"
   ]
  },
  {
   "cell_type": "markdown",
   "metadata": {},
   "source": [
    "The factory emits a ```ContractInstantiation(address sender, address instantiation)``` event in case of a newly created wallet. We can get the wallet's address by accessing it.\n",
    "You can either read the event logs and parse the data from the transaction receipt, or set a filter for the event and scan for it. The first method is shown. Then the wallet contract is then instantiated using the address and its ABI."
   ]
  },
  {
   "cell_type": "code",
   "execution_count": null,
   "metadata": {},
   "outputs": [],
   "source": [
    "let myWalletAddress\n",
    "let myWallet"
   ]
  },
  {
   "cell_type": "code",
   "execution_count": null,
   "metadata": {},
   "outputs": [],
   "source": [
    "myWalletAddress = txHash.events.ContractInstantiation.returnValues.instantiation\n",
    "myWallet = new web3.eth.Contract(walletWithDLAbi, myWalletAddress)\n",
    "\n",
    "console.log(\"Your deployed wallet address is: \" + myWalletAddress)\n",
    "myWallet.methods.getOwners().call().then((x) => { console.log(\"Owners are: \" + x)} )\n",
    "myWallet.methods.dailyLimit().call().then((x) => { console.log(\"Daily withdraw limit w/o confirmations: \" + x + \" wei\") })\n",
    "myWallet.methods.calcMaxWithdraw().call().then((x) => { console.log(\"Allowed withdraw for today w/o confirmations: \" + x + \" wei\") })\n",
    "myWallet.methods.required().call().then((x) => { console.log(\"Required confirmations: \" + x) })"
   ]
  },
  {
   "cell_type": "markdown",
   "metadata": {},
   "source": [
    "### 1.B deploying the wallet manually"
   ]
  },
  {
   "cell_type": "code",
   "execution_count": null,
   "metadata": {},
   "outputs": [],
   "source": [
    "let MyWallet\n",
    "let myWallet\n",
    "let requiredConfirmations\n",
    "let dailyLimit"
   ]
  },
  {
   "cell_type": "code",
   "execution_count": null,
   "metadata": {},
   "outputs": [],
   "source": [
    "MyWallet = new web3.eth.Contract(walletWithDLJSON.abi)\n",
    "\n",
    "requiredConfirmations = 2\n",
    "dailyLimit = 0\n",
    "\n",
    "MyWallet.deploy({\n",
    "    data: walletWithDLJSON.unlinked_binary, //walletWithDLJSON.bytecode with newer compilers\n",
    "    arguments: [[address1, address2, address3], requiredConfirmations, dailyLimit]\n",
    "}).send({\"from\": address1, \"gas\": 5000000})\n",
    "    .then(x => {\n",
    "        myWallet = x\n",
    "        console.log(\"Contract creation success\")\n",
    "    })"
   ]
  },
  {
   "cell_type": "code",
   "execution_count": null,
   "metadata": {},
   "outputs": [],
   "source": [
    "console.log(\"Your deployed wallet address is: \" + myWallet.options.address)\n",
    "myWallet.methods.getOwners().call().then((x) => { console.log(\"Owners are: \" + x)} )\n",
    "myWallet.methods.dailyLimit().call().then((x) => { console.log(\"Daily withdraw limit w/o confirmations: \" + x + \" wei\") })\n",
    "myWallet.methods.calcMaxWithdraw().call().then((x) => { console.log(\"Allowed withdraw for today w/o confirmations: \" + x + \" wei\") })\n",
    "myWallet.methods.required().call().then((x) => { console.log(\"Required confirmations: \" + x) })"
   ]
  },
  {
   "cell_type": "markdown",
   "metadata": {},
   "source": [
    "### 2. Let's send some play tokens to the wallet\n",
    "E.g. 2 ethers for playing around"
   ]
  },
  {
   "cell_type": "code",
   "execution_count": null,
   "metadata": {},
   "outputs": [],
   "source": [
    "web3.eth.sendTransaction({\n",
    "    \"from\": address1,\n",
    "    \"to\": myWalletAddress,\n",
    "    \"value\": web3.utils.toWei(\"0.5\", \"ether\")\n",
    "})"
   ]
  },
  {
   "cell_type": "markdown",
   "metadata": {},
   "source": [
    "### 3. Let's try to withdraw some money back to account 1\n",
    " 1. We submit a transaction invoking the ```submitTransaction(address destination, uint value, bytes data)```. ```value``` is where the transferrable 'money' goes in wei. More about the ```data``` field below in secton 5.\n",
    " 2. We need to get the transaction ID: the wallet emits a ```Submission(uint indexed transactionId)``` event in case of  successful submission. We can read it out from the receipt."
   ]
  },
  {
   "cell_type": "code",
   "execution_count": null,
   "metadata": {},
   "outputs": [],
   "source": [
    "let txHash2\n",
    "let transactionId"
   ]
  },
  {
   "cell_type": "code",
   "execution_count": null,
   "metadata": {},
   "outputs": [],
   "source": [
    "myWallet.methods.submitTransaction(address1, web3.utils.toWei(\"0.2\", \"ether\"), \"0x0\")\n",
    "    .send({\"from\": address1})\n",
    "    .then(x => {\n",
    "        txHash2=x\n",
    "        transactionId = x.events.Submission.returnValues.transactionId\n",
    "        console.log(\"Submission success! Transaction ID:\" + transactionId)\n",
    "    })"
   ]
  },
  {
   "cell_type": "markdown",
   "metadata": {},
   "source": [
    "#### 3.1 Let's check out the state of our submission"
   ]
  },
  {
   "cell_type": "code",
   "execution_count": null,
   "metadata": {},
   "outputs": [],
   "source": [
    "myWallet.methods.transactionCount().call().then((x) => console.log(`Transaction count: ${x}`))\n",
    "myWallet.methods.transactions(transactionId).call().then((x) => console.log(`Our transaction status: ${JSON.stringify(x)}`))\n",
    "myWallet.methods.confirmations(transactionId, address1).call().then((x) => console.log(`Confirmed by ${address1}: ${x}`))\n",
    "myWallet.methods.confirmations(transactionId, address2).call().then((x) => console.log(`Confirmed by ${address2}: ${x}`))\n",
    "myWallet.methods.confirmations(transactionId, address3).call().then((x) => console.log(`Confirmed by ${address3}: ${x}`))"
   ]
  },
  {
   "cell_type": "markdown",
   "metadata": {},
   "source": [
    "#### 3.2 You can check that as long as the submission is not confirmed by at least another owner, you cannot send it"
   ]
  },
  {
   "cell_type": "code",
   "execution_count": null,
   "metadata": {},
   "outputs": [],
   "source": [
    "myWallet.methods.executeTransaction(transactionId).send({\"from\": address1, \"gas\": 800000})"
   ]
  },
  {
   "cell_type": "code",
   "execution_count": null,
   "metadata": {},
   "outputs": [],
   "source": [
    "myWallet.methods.transactions(transactionId).call().then(x => console.log(`Our transaction status: ${JSON.stringify(x)}`))"
   ]
  },
  {
   "cell_type": "markdown",
   "metadata": {},
   "source": [
    "### 4. Confirm the transaction with other owners\n",
    " - ```confirmTransaction(uint transactionId)```\n",
    " - needs the transaction ID, and the sender needs to be the owner who confirms\n",
    " - a confirmed transaction can be executed by ``` executeTransaction(transactionId)```\n",
    " - ``` executeTransaction(transactionId)``` is automatically triggered if the number of confirmations reach the required with this last ```confirmTransaction``` and all conditions are met\n"
   ]
  },
  {
   "cell_type": "code",
   "execution_count": null,
   "metadata": {},
   "outputs": [],
   "source": [
    "myWallet.methods.confirmTransaction(transactionId).send({\"from\": address2, \"gas\": 800000})"
   ]
  },
  {
   "cell_type": "code",
   "execution_count": null,
   "metadata": {},
   "outputs": [],
   "source": [
    "myWallet.methods.transactions(transactionId).call().then(x => console.log(`Our transaction status: ${JSON.stringify(x)}`))"
   ]
  },
  {
   "cell_type": "markdown",
   "metadata": {},
   "source": [
    "You can see that the transaction status is executed and the money appears on you destination account."
   ]
  },
  {
   "cell_type": "markdown",
   "metadata": {},
   "source": [
    "**Note**: If the last confirmer didn't send enough gas to execute the transaction, the execution has to be fired manually using the executeTransaction(id) function"
   ]
  },
  {
   "cell_type": "markdown",
   "metadata": {},
   "source": [
    "### 5. Change daily limit \n",
    "You cannot calll the wallet's changeDailyLimit function directly, it needs to be a confirmed transaction. You can change the daily limit, owners and required confirmations as well, with the consent of the other owners."
   ]
  },
  {
   "cell_type": "markdown",
   "metadata": {},
   "source": [
    "#### How to invoke Smart Contract methods using your Multisig Wallet\n",
    "\n",
    "If you look at the function signature ```submitTransaction(address destination, uint value, bytes data)``` you notice a ```bytes data``` field. It is used to invoke functionalities of a contract and can be left empty or \"0x\" for regular value transfers. Remember that invoking SC functions is just a regular transaction containing the relevant calldata. Calldata is obtained by encoding the desired function's signature and its parameters, but fortunately web3 libraries already do the heavy lifting for you, so no need to do this manually. The recipient address needs to be the address of the Smart Contract whose method you want to invoke.\n",
    "\n",
    "In this case we want to invoke the ```changeDailyLimit``` function of our wallet Smart Contract. We need the ABI to encode the calldata easily."
   ]
  },
  {
   "cell_type": "code",
   "execution_count": null,
   "metadata": {},
   "outputs": [],
   "source": [
    "let txHash3 \n",
    "let callData"
   ]
  },
  {
   "cell_type": "code",
   "execution_count": null,
   "metadata": {},
   "outputs": [],
   "source": [
    "txHash3 \n",
    "callData = myWallet.methods.changeDailyLimit(web3.utils.toWei(\"1\", \"ether\")).encodeABI()\n",
    "myWallet.methods.submitTransaction(myWalletAddress, 0, callData).send({\"from\": address1})\n",
    "    .then(x => {\n",
    "        txHash3 = x\n",
    "        transactionId = x.events.Submission.returnValues.transactionId\n",
    "        console.log(\"Submission success! Transaction ID:\" + transactionId)\n",
    "    })"
   ]
  },
  {
   "cell_type": "markdown",
   "metadata": {},
   "source": [
    "After this points everything goes as with any other transaction from our wallet"
   ]
  },
  {
   "cell_type": "markdown",
   "metadata": {},
   "source": [
    "We confirm it with another account as well, which triggers the transaction"
   ]
  },
  {
   "cell_type": "code",
   "execution_count": null,
   "metadata": {},
   "outputs": [],
   "source": [
    "myWallet.methods.confirmTransaction(transactionId).send({\"from\": address2, \"gas\": 800000})"
   ]
  },
  {
   "cell_type": "code",
   "execution_count": null,
   "metadata": {},
   "outputs": [],
   "source": [
    "myWallet.methods.transactions(transactionId).call().then(tx => {\n",
    "    if(tx.executed == true) {\n",
    "        console.log(\"Transaction \" + transactionId + \" is executed\")\n",
    "        myWallet.methods.dailyLimit().call().then(x => console.log(`Daily withdraw limit w/o confirmations: ${x} wei`))\n",
    "    } else {\n",
    "        console.log(\"Transaction \" + transactionId + \"is not executed\")\n",
    "    }\n",
    "})\n"
   ]
  },
  {
   "cell_type": "markdown",
   "metadata": {},
   "source": [
    "You should see that the daily limit has changed"
   ]
  },
  {
   "cell_type": "markdown",
   "metadata": {},
   "source": [
    "### 6. Withdraw some ether w/o confirmation\n",
    "##### Now that the daily limit is changed, it is time to test it. Calldata is 0."
   ]
  },
  {
   "cell_type": "code",
   "execution_count": null,
   "metadata": {},
   "outputs": [],
   "source": [
    "let  txHash4"
   ]
  },
  {
   "cell_type": "code",
   "execution_count": null,
   "metadata": {},
   "outputs": [],
   "source": [
    "myWallet.methods.submitTransaction(address1, web3.utils.toWei(\"0.7\", \"ether\"), \"0x\").send({\"from\": address1})\n",
    "    .then(x => {\n",
    "        txHash4 = x\n",
    "        transactionId = x.events.Submission.returnValues.transactionId\n",
    "        console.log(\"Submission success! Transaction ID:\" + transactionId)\n",
    "    })"
   ]
  },
  {
   "cell_type": "code",
   "execution_count": null,
   "metadata": {},
   "outputs": [],
   "source": [
    "myWallet.methods.transactionCount().call().then((x) => console.log(`Transaction count: ${x}`))\n",
    "myWallet.methods.transactions(transactionId).call().then((x) => console.log(`Our transaction status: ${JSON.stringify(x)}`))\n",
    "myWallet.methods.confirmations(transactionId, address1).call().then((x) => console.log(`Confirmed by ${address1}: ${x}`))\n",
    "myWallet.methods.confirmations(transactionId, address2).call().then((x) => console.log(`Confirmed by ${address2}: ${x}`))\n",
    "myWallet.methods.confirmations(transactionId, address3).call().then((x) => console.log(`Confirmed by ${address3}: ${x}`))"
   ]
  },
  {
   "cell_type": "markdown",
   "metadata": {},
   "source": [
    "##### You can see that the transaction is executed, but only 1 account confirmed it. Let's check the remaining daily quota.\n",
    "The daily quota is calculated for \"today\" by comparing the current time to a unix timestamp called ```lastDay```. If the curent moment is past ```lastDay + 24 hours``` then the daily quota resets. The lastDay timestamp is initially zero and is first set in the contract when we try to make a withdrawal."
   ]
  },
  {
   "cell_type": "code",
   "execution_count": null,
   "metadata": {},
   "outputs": [],
   "source": [
    "myWallet.methods.dailyLimit().call().then(x => console.log(`Daily withdraw limit w/o confirmations: ${x} wei`))\n",
    "myWallet.methods.calcMaxWithdraw().call().then(x => console.log(`Allowed withdraw for today w/o confirmations: ${x} wei`))\n",
    "myWallet.methods.lastDay().call().then(x => console.log(`Last day: ${x} -> ${new Date(x*1000)}`))"
   ]
  },
  {
   "cell_type": "markdown",
   "metadata": {},
   "source": [
    "### 7. Let's remove an owner\n",
    "Steps are very similar to changing the daily limit. You can manage ownership with```removeOwner(address owner)``` and```replaceOwner(address owner, address newOwner)``` methods, and change the confirmations needed with ```changeRequirement(uint _required)```.\n",
    "\n",
    "I remove owner n3 in this example"
   ]
  },
  {
   "cell_type": "code",
   "execution_count": null,
   "metadata": {},
   "outputs": [],
   "source": [
    "callData = myWallet.methods.removeOwner(address3).encodeABI()\n",
    "myWallet.methods.submitTransaction(myWalletAddress, 0, callData).send({\"from\": address1})\n",
    "    .then(x => {\n",
    "        txHash5 = x\n",
    "        transactionId = x.events.Submission.returnValues.transactionId\n",
    "        console.log(\"Submission success! Transaction ID:\" + transactionId)\n",
    "    })"
   ]
  },
  {
   "cell_type": "code",
   "execution_count": null,
   "metadata": {},
   "outputs": [],
   "source": [
    "myWallet.methods.confirmTransaction(transactionId).send({\"from\": address2, \"gas\": 800000})"
   ]
  },
  {
   "cell_type": "code",
   "execution_count": null,
   "metadata": {},
   "outputs": [],
   "source": [
    "myWallet.methods.transactions(transactionId).call().then(tx => {\n",
    "    if(tx.executed == true) {\n",
    "        console.log(\"Transaction \" + transactionId + \" is executed\")\n",
    "        myWallet.methods.dailyLimit().call().then(x => console.log(`Daily withdraw limit w/o confirmations: ${x} wei`))\n",
    "    } else {\n",
    "        console.log(\"Transaction \" + transactionId + \"is not executed\")\n",
    "    }\n",
    "})\n"
   ]
  },
  {
   "cell_type": "markdown",
   "metadata": {},
   "source": [
    "##### You should see the chosen owner disappeared from the list"
   ]
  },
  {
   "cell_type": "markdown",
   "metadata": {},
   "source": [
    "### 8. Your experiments here\n",
    "Feel free to play around with your Multisig wallet"
   ]
  },
  {
   "cell_type": "code",
   "execution_count": null,
   "metadata": {},
   "outputs": [],
   "source": []
  }
 ],
 "metadata": {
  "kernelspec": {
   "display_name": "Javascript (Node.js)",
   "language": "javascript",
   "name": "javascript"
  },
  "language_info": {
   "file_extension": ".js",
   "mimetype": "application/javascript",
   "name": "javascript",
   "version": "8.16.0"
  }
 },
 "nbformat": 4,
 "nbformat_minor": 2
}
